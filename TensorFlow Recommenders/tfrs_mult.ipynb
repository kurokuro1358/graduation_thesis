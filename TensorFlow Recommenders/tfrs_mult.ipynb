{
  "nbformat": 4,
  "nbformat_minor": 0,
  "metadata": {
    "colab": {
      "name": "tfrs-mult.ipynb",
      "provenance": []
    },
    "kernelspec": {
      "name": "python3",
      "display_name": "Python 3"
    },
    "language_info": {
      "name": "python"
    }
  },
  "cells": [
    {
      "cell_type": "code",
      "execution_count": 25,
      "metadata": {
        "colab": {
          "base_uri": "https://localhost:8080/"
        },
        "id": "1TcsRGsumOje",
        "outputId": "5a459493-cccc-4c1a-af81-98f5bfc949d0"
      },
      "outputs": [
        {
          "output_type": "stream",
          "name": "stdout",
          "text": [
            "Requirement already satisfied: numexpr in /usr/local/lib/python3.7/dist-packages (2.7.3)\n",
            "Requirement already satisfied: numpy>=1.7 in /usr/local/lib/python3.7/dist-packages (from numexpr) (1.19.5)\n"
          ]
        }
      ],
      "source": [
        "!pip install -q tensorflow-recommenders\n",
        "!pip install -q --upgrade tensorflow-datasets\n",
        "!pip install numexpr"
      ]
    },
    {
      "cell_type": "code",
      "source": [
        "import os\n",
        "import pprint\n",
        "import tempfile\n",
        "\n",
        "from typing import Dict, Text\n",
        "\n",
        "import numpy as np\n",
        "import pandas as pd\n",
        "import tensorflow as tf\n",
        "import tensorflow_datasets as tfds\n",
        "\n",
        "import tensorflow_recommenders as tfrs\n",
        "\n",
        "import matplotlib.pyplot as plt\n",
        "%matplotlib inline"
      ],
      "metadata": {
        "id": "HiD-QMO1mYns"
      },
      "execution_count": 26,
      "outputs": []
    },
    {
      "cell_type": "markdown",
      "source": [
        "### Lode data from TensorFloe Dataset"
      ],
      "metadata": {
        "id": "Twl9buRGF-Ss"
      }
    },
    {
      "cell_type": "code",
      "source": [
        "!wget https://files.grouplens.org/datasets/movielens/ml-25m.zip\n",
        "!unzip ml-25m.zip\n",
        "\n",
        "### TensorFlowが公開するデータセットの中からMovielensをロードする\n",
        "## 評価データ行列をロード、tf.data.Datasetオブジェクトのratingが生成される\n",
        "ratings_original = tfds.load('movielens/100k-ratings', split='train')\n",
        "## 映画データ行列をロード、tf.data.Datasetオブジェクトのmoviesが生成される\n",
        "movies_original = tfds.load('movielens/100k-movies', split='train')\n",
        "\n",
        "movieDF = pd.read_csv(\"ml-25m/movies.csv\")\n",
        "rateDF = pd.read_csv(\"ml-25m/ratings.csv\")\n",
        "\n",
        "# Select the basic features.\n",
        "ratings = ratings_original.map(lambda x: {\n",
        "    \"movie_title\": x[\"movie_title\"],\n",
        "    \"user_id\": x[\"user_id\"],\n",
        "    \"user_rating\": x[\"user_rating\"],\n",
        "})\n",
        "movies = movies_original.map(lambda x: x[\"movie_title\"])"
      ],
      "metadata": {
        "colab": {
          "base_uri": "https://localhost:8080/"
        },
        "id": "eLoKyUP3mc6U",
        "outputId": "293ba4ce-509f-4d27-8efa-6c3210c47f4c"
      },
      "execution_count": 27,
      "outputs": [
        {
          "output_type": "stream",
          "name": "stdout",
          "text": [
            "--2021-12-22 07:09:57--  https://files.grouplens.org/datasets/movielens/ml-25m.zip\n",
            "Resolving files.grouplens.org (files.grouplens.org)... 128.101.65.152\n",
            "Connecting to files.grouplens.org (files.grouplens.org)|128.101.65.152|:443... connected.\n",
            "HTTP request sent, awaiting response... 200 OK\n",
            "Length: 261978986 (250M) [application/zip]\n",
            "Saving to: ‘ml-25m.zip.1’\n",
            "\n",
            "ml-25m.zip.1        100%[===================>] 249.84M  17.3MB/s    in 16s     \n",
            "\n",
            "2021-12-22 07:10:14 (15.5 MB/s) - ‘ml-25m.zip.1’ saved [261978986/261978986]\n",
            "\n",
            "Archive:  ml-25m.zip\n",
            "replace ml-25m/tags.csv? [y]es, [n]o, [A]ll, [N]one, [r]ename: y\n",
            "  inflating: ml-25m/tags.csv         \n",
            "replace ml-25m/links.csv? [y]es, [n]o, [A]ll, [N]one, [r]ename: y\n",
            "  inflating: ml-25m/links.csv        \n",
            "replace ml-25m/README.txt? [y]es, [n]o, [A]ll, [N]one, [r]ename: y\n",
            "  inflating: ml-25m/README.txt       \n",
            "replace ml-25m/ratings.csv? [y]es, [n]o, [A]ll, [N]one, [r]ename: y\n",
            "  inflating: ml-25m/ratings.csv      \n",
            "replace ml-25m/genome-tags.csv? [y]es, [n]o, [A]ll, [N]one, [r]ename: y\n",
            "  inflating: ml-25m/genome-tags.csv  \n",
            "replace ml-25m/genome-scores.csv? [y]es, [n]o, [A]ll, [N]one, [r]ename: y\n",
            "  inflating: ml-25m/genome-scores.csv  \n",
            "replace ml-25m/movies.csv? [y]es, [n]o, [A]ll, [N]one, [r]ename: y\n",
            "  inflating: ml-25m/movies.csv       \n"
          ]
        }
      ]
    },
    {
      "cell_type": "code",
      "source": [
        "embedding_dimension = 32"
      ],
      "metadata": {
        "id": "wrn9OTgRmmtK"
      },
      "execution_count": 28,
      "outputs": []
    },
    {
      "cell_type": "markdown",
      "source": [
        "#### ランダムにトレーニングデータとテストデータに分割する\n",
        "トレーニングデータ：８０％  \n",
        "テストデータ：２０％\n",
        "\n",
        "#### データに存在する一意のユーザーIDと映画のタイトルを把握する"
      ],
      "metadata": {
        "id": "z0GxPUlLGF_F"
      }
    },
    {
      "cell_type": "code",
      "source": [
        "# Randomly shuffle data and split between train and test.\n",
        "tf.random.set_seed(42)\n",
        "shuffled = ratings.shuffle(100_000, seed=42, reshuffle_each_iteration=False)\n",
        "\n",
        "train = shuffled.take(80_000)\n",
        "test = shuffled.skip(80_000).take(20_000)\n",
        "\n",
        "movie_titles = movies.batch(1_000)\n",
        "user_ids = ratings.batch(1_000_000).map(lambda x: x[\"user_id\"])\n",
        "\n",
        "unique_movie_titles = np.unique(np.concatenate(list(movie_titles)))\n",
        "unique_user_ids = np.unique(np.concatenate(list(user_ids)))"
      ],
      "metadata": {
        "id": "c3pjtHLXmfMA"
      },
      "execution_count": 29,
      "outputs": []
    },
    {
      "cell_type": "markdown",
      "source": [
        "#### 文字列を整数値に変換する\n",
        "一意のユーザーIDを変換に用いる"
      ],
      "metadata": {
        "id": "NIU60g81GY7S"
      }
    },
    {
      "cell_type": "code",
      "source": [
        "user_model = tf.keras.Sequential([\n",
        "  tf.keras.layers.StringLookup(\n",
        "      vocabulary=unique_user_ids, mask_token=None),\n",
        "  # We add 1 to account for the unknown token.\n",
        "  tf.keras.layers.Embedding(len(unique_user_ids) + 1, embedding_dimension)\n",
        "])\n",
        "\n",
        "movie_model = tf.keras.Sequential([\n",
        "  tf.keras.layers.StringLookup(\n",
        "      vocabulary=unique_movie_titles, mask_token=None),\n",
        "  tf.keras.layers.Embedding(len(unique_movie_titles) + 1, embedding_dimension)\n",
        "])"
      ],
      "metadata": {
        "id": "6CeqY9UNmhdC"
      },
      "execution_count": 30,
      "outputs": []
    },
    {
      "cell_type": "code",
      "source": [
        "tfrs.tasks.Ranking(\n",
        "    loss=tf.keras.losses.MeanSquaredError(),\n",
        "    metrics=[tf.keras.metrics.RootMeanSquaredError(), tf.keras.metrics.Precision()],\n",
        ")"
      ],
      "metadata": {
        "colab": {
          "base_uri": "https://localhost:8080/"
        },
        "id": "aq5fjl0Gmlr5",
        "outputId": "485af63f-bb29-4bb2-9a60-dacccba55e88"
      },
      "execution_count": 53,
      "outputs": [
        {
          "output_type": "execute_result",
          "data": {
            "text/plain": [
              "<tensorflow_recommenders.tasks.ranking.Ranking at 0x7f3d8f37fe10>"
            ]
          },
          "metadata": {},
          "execution_count": 53
        }
      ]
    },
    {
      "cell_type": "code",
      "source": [
        "tfrs.tasks.Retrieval(\n",
        "    metrics=tfrs.metrics.FactorizedTopK(\n",
        "        candidates=movies.batch(128)\n",
        "    )\n",
        ")"
      ],
      "metadata": {
        "colab": {
          "base_uri": "https://localhost:8080/"
        },
        "id": "oWxbs6FVmreV",
        "outputId": "df503594-6a5b-4936-90f8-8d776ba641f6"
      },
      "execution_count": 32,
      "outputs": [
        {
          "output_type": "execute_result",
          "data": {
            "text/plain": [
              "<tensorflow_recommenders.tasks.retrieval.Retrieval at 0x7f3d8f596f90>"
            ]
          },
          "metadata": {},
          "execution_count": 32
        }
      ]
    },
    {
      "cell_type": "markdown",
      "source": [
        "#### モデルクラス"
      ],
      "metadata": {
        "id": "Y4JzqCQaGfN_"
      }
    },
    {
      "cell_type": "code",
      "source": [
        "class MovielensModel(tfrs.models.Model):\n",
        "\n",
        "  def __init__(self, rating_weight: float, retrieval_weight: float) -> None:\n",
        "    # We take the loss weights in the constructor: this allows us to instantiate\n",
        "    # several model objects with different loss weights.\n",
        "\n",
        "    super().__init__()\n",
        "\n",
        "    embedding_dimension = 32\n",
        "\n",
        "    # User and movie models.\n",
        "    self.movie_model: tf.keras.layers.Layer = tf.keras.Sequential([\n",
        "      tf.keras.layers.StringLookup(\n",
        "        vocabulary=unique_movie_titles, mask_token=None),\n",
        "      tf.keras.layers.Embedding(len(unique_movie_titles) + 1, embedding_dimension)\n",
        "    ])\n",
        "    self.user_model: tf.keras.layers.Layer = tf.keras.Sequential([\n",
        "      tf.keras.layers.StringLookup(\n",
        "        vocabulary=unique_user_ids, mask_token=None),\n",
        "      tf.keras.layers.Embedding(len(unique_user_ids) + 1, embedding_dimension)\n",
        "    ])\n",
        "\n",
        "    # A small model to take in user and movie embeddings and predict ratings.\n",
        "    # We can make this as complicated as we want as long as we output a scalar\n",
        "    # as our prediction.\n",
        "    self.rating_model = tf.keras.Sequential([\n",
        "        tf.keras.layers.Dense(256, activation=\"relu\"),\n",
        "        tf.keras.layers.Dense(128, activation=\"relu\"),\n",
        "        tf.keras.layers.Dense(1),\n",
        "    ])\n",
        "\n",
        "    # The tasks.\n",
        "    self.rating_task: tf.keras.layers.Layer = tfrs.tasks.Ranking(\n",
        "        loss=tf.keras.losses.MeanSquaredError(),\n",
        "        metrics=[tf.keras.metrics.RootMeanSquaredError(), tf.keras.metrics.Precision()],\n",
        "    )\n",
        "    self.retrieval_task: tf.keras.layers.Layer = tfrs.tasks.Retrieval(\n",
        "        metrics=tfrs.metrics.FactorizedTopK(\n",
        "            candidates=movies.batch(128).map(self.movie_model)\n",
        "        )\n",
        "    )\n",
        "\n",
        "    # The loss weights.\n",
        "    self.rating_weight = rating_weight\n",
        "    self.retrieval_weight = retrieval_weight\n",
        "\n",
        "  def call(self, features: Dict[Text, tf.Tensor]) -> tf.Tensor:\n",
        "    # We pick out the user features and pass them into the user model.\n",
        "    user_embeddings = self.user_model(features[\"user_id\"])\n",
        "    # And pick out the movie features and pass them into the movie model.\n",
        "    movie_embeddings = self.movie_model(features[\"movie_title\"])\n",
        "\n",
        "    return (\n",
        "        user_embeddings,\n",
        "        movie_embeddings,\n",
        "        # We apply the multi-layered rating model to a concatentation of\n",
        "        # user and movie embeddings.\n",
        "        self.rating_model(\n",
        "            tf.concat([user_embeddings, movie_embeddings], axis=1)\n",
        "        ),\n",
        "    )\n",
        "\n",
        "  def compute_loss(self, features: Dict[Text, tf.Tensor], training=False) -> tf.Tensor:\n",
        "\n",
        "    ratings = features.pop(\"user_rating\")\n",
        "\n",
        "    user_embeddings, movie_embeddings, rating_predictions = self(features)\n",
        "\n",
        "    # We compute the loss for each task.\n",
        "    rating_loss = self.rating_task(\n",
        "        labels=ratings,\n",
        "        predictions=rating_predictions,\n",
        "    )\n",
        "    retrieval_loss = self.retrieval_task(user_embeddings, movie_embeddings)\n",
        "\n",
        "    # And combine them using the loss weights.\n",
        "    return (self.rating_weight * rating_loss\n",
        "            + self.retrieval_weight * retrieval_loss)\n"
      ],
      "metadata": {
        "id": "q-1cFN5-mvKl"
      },
      "execution_count": 54,
      "outputs": []
    },
    {
      "cell_type": "markdown",
      "source": [
        "#### モデルをインスタンス化する"
      ],
      "metadata": {
        "id": "NUKRxnW9Gl5j"
      }
    },
    {
      "cell_type": "code",
      "source": [
        "model = MovielensModel(rating_weight=1.0, retrieval_weight=0.0)\n",
        "model.compile(optimizer=tf.keras.optimizers.Adagrad(0.1), metrics=[tf.keras.metrics.Precision()])"
      ],
      "metadata": {
        "id": "4itbSDwom9op"
      },
      "execution_count": 55,
      "outputs": []
    },
    {
      "cell_type": "markdown",
      "source": [
        "#### トレーニングデータと評価データをシャッフル、バッチ処理、およびキャッシュする"
      ],
      "metadata": {
        "id": "LCsJOI6rGoq2"
      }
    },
    {
      "cell_type": "code",
      "source": [
        "cached_train = train.shuffle(100_000).batch(8192).cache()\n",
        "cached_test = test.batch(4096).cache()"
      ],
      "metadata": {
        "id": "if6kLZ3pnN_K"
      },
      "execution_count": 56,
      "outputs": []
    },
    {
      "cell_type": "markdown",
      "source": [
        "#### モデルをトレーニングする"
      ],
      "metadata": {
        "id": "NBwSNr7GGrjh"
      }
    },
    {
      "cell_type": "code",
      "source": [
        "epochs = 3\n",
        "model_hist = model.fit(cached_train, epochs=epochs)"
      ],
      "metadata": {
        "colab": {
          "base_uri": "https://localhost:8080/"
        },
        "id": "fuEBKjj1nVoy",
        "outputId": "c5ccb287-e48f-4ee8-b4af-1565695ffbea"
      },
      "execution_count": 57,
      "outputs": [
        {
          "output_type": "stream",
          "name": "stdout",
          "text": [
            "Epoch 1/3\n",
            "10/10 [==============================] - 29s 2s/step - root_mean_squared_error: 2.1006 - factorized_top_k/top_1_categorical_accuracy: 5.0000e-04 - factorized_top_k/top_5_categorical_accuracy: 0.0028 - factorized_top_k/top_10_categorical_accuracy: 0.0056 - factorized_top_k/top_50_categorical_accuracy: 0.0286 - factorized_top_k/top_100_categorical_accuracy: 0.0583 - loss: 4.0653 - regularization_loss: 0.0000e+00 - total_loss: 4.0653\n",
            "Epoch 2/3\n",
            "10/10 [==============================] - 24s 2s/step - root_mean_squared_error: 1.1552 - factorized_top_k/top_1_categorical_accuracy: 4.1250e-04 - factorized_top_k/top_5_categorical_accuracy: 0.0029 - factorized_top_k/top_10_categorical_accuracy: 0.0056 - factorized_top_k/top_50_categorical_accuracy: 0.0289 - factorized_top_k/top_100_categorical_accuracy: 0.0588 - loss: 1.3350 - regularization_loss: 0.0000e+00 - total_loss: 1.3350\n",
            "Epoch 3/3\n",
            "10/10 [==============================] - 24s 2s/step - root_mean_squared_error: 1.1372 - factorized_top_k/top_1_categorical_accuracy: 3.6250e-04 - factorized_top_k/top_5_categorical_accuracy: 0.0028 - factorized_top_k/top_10_categorical_accuracy: 0.0058 - factorized_top_k/top_50_categorical_accuracy: 0.0290 - factorized_top_k/top_100_categorical_accuracy: 0.0595 - loss: 1.2909 - regularization_loss: 0.0000e+00 - total_loss: 1.2909\n"
          ]
        }
      ]
    },
    {
      "cell_type": "markdown",
      "source": [
        "#### テストセットでモデルを評価"
      ],
      "metadata": {
        "id": "FxVC0RaTGuJo"
      }
    },
    {
      "cell_type": "code",
      "source": [
        "model_evaluation =  model.evaluate(cached_test, return_dict=True)"
      ],
      "metadata": {
        "colab": {
          "base_uri": "https://localhost:8080/"
        },
        "id": "lyF_PRfioWEh",
        "outputId": "ee74161d-922d-4aab-bc6b-14d32cc1fa8b"
      },
      "execution_count": 46,
      "outputs": [
        {
          "output_type": "stream",
          "name": "stdout",
          "text": [
            "5/5 [==============================] - 8s 879ms/step - root_mean_squared_error: 1.0869 - factorized_top_k/top_1_categorical_accuracy: 3.0000e-04 - factorized_top_k/top_5_categorical_accuracy: 0.0030 - factorized_top_k/top_10_categorical_accuracy: 0.0066 - factorized_top_k/top_50_categorical_accuracy: 0.0324 - factorized_top_k/top_100_categorical_accuracy: 0.0613 - loss: 1.1778 - regularization_loss: 0.0000e+00 - total_loss: 1.1778\n"
          ]
        }
      ]
    },
    {
      "cell_type": "code",
      "source": [
        "model_evaluation"
      ],
      "metadata": {
        "colab": {
          "base_uri": "https://localhost:8080/"
        },
        "id": "2XjhQrL0ob9R",
        "outputId": "d8e10747-153f-48f6-fa8e-30afdb7fadd4"
      },
      "execution_count": 47,
      "outputs": [
        {
          "output_type": "execute_result",
          "data": {
            "text/plain": [
              "{'factorized_top_k/top_100_categorical_accuracy': 0.06129999831318855,\n",
              " 'factorized_top_k/top_10_categorical_accuracy': 0.006550000049173832,\n",
              " 'factorized_top_k/top_1_categorical_accuracy': 0.0003000000142492354,\n",
              " 'factorized_top_k/top_50_categorical_accuracy': 0.03240000084042549,\n",
              " 'factorized_top_k/top_5_categorical_accuracy': 0.003000000026077032,\n",
              " 'loss': 1.1620267629623413,\n",
              " 'regularization_loss': 0,\n",
              " 'root_mean_squared_error': 1.0869065523147583,\n",
              " 'total_loss': 1.1620267629623413}"
            ]
          },
          "metadata": {},
          "execution_count": 47
        }
      ]
    },
    {
      "cell_type": "code",
      "source": [
        "model_evaluation_tmp = model_evaluation\n",
        "for k in list(model_evaluation):\n",
        "  if \"factorized_top_k/\" not in k:\n",
        "    model_evaluation_tmp.pop(k)"
      ],
      "metadata": {
        "id": "osw5Lq-h9LW8"
      },
      "execution_count": 39,
      "outputs": []
    },
    {
      "cell_type": "code",
      "source": [
        "# top-kのリストを定義\n",
        "top_k = [1, 5, 10, 50, 100]\n",
        "# 棒グラフにおけるx軸のラベルを定義\n",
        "label = [\"top\" + str(k) for k in top_k]\n",
        "# 棒グラフのx軸の値（図を整えるために定義）\n",
        "x_range = [1, 2, 3, 4, 5]\n",
        "\n",
        "# y軸の値を保持するリストを定義\n",
        "y = []\n",
        "for k in top_k:\n",
        "  # 各kにおけるtop-kの値をyにスタック\n",
        "  y.append(model_evaluation[\"factorized_top_k/top_\" + str(k) + \"_categorical_accuracy\"])\n",
        "\n",
        "# 図示する\n",
        "plt.bar(x_range, height=y, width=0.5, tick_label=label)  # 棒のラベルづけと幅の変更\n",
        "plt.title(\"Accuracy in top-k\")\n",
        "plt.xlabel(\"top-k\")\n",
        "plt.ylabel(\"accuracy\");"
      ],
      "metadata": {
        "colab": {
          "base_uri": "https://localhost:8080/",
          "height": 295
        },
        "id": "z143jFPW9OHT",
        "outputId": "93507a7b-70d7-4e94-f03c-1fb4d1c6e370"
      },
      "execution_count": 40,
      "outputs": [
        {
          "output_type": "display_data",
          "data": {
            "image/png": "[encoded data removed]",
            "text/plain": [
              "<Figure size 432x288 with 1 Axes>"
            ]
          },
          "metadata": {
            "needs_background": "light"
          }
        }
      ]
    },
    {
      "cell_type": "code",
      "source": [
        "epochsLists = [i for i in range(epochs)]\n",
        "plt.plot(epochsLists, model_hist.history[\"factorized_top_k/top_100_categorical_accuracy\"], label=\"top-100 accuracy\")\n",
        "plt.plot(epochsLists, model_hist.history[\"factorized_top_k/top_10_categorical_accuracy\"], label=\"top-10 accuracy\")\n",
        "plt.plot(epochsLists, model_hist.history[\"factorized_top_k/top_5_categorical_accuracy\"], label=\"top-5 accuracy\")\n",
        "plt.plot(epochsLists, model_hist.history[\"factorized_top_k/top_1_categorical_accuracy\"], label=\"top-1 accuracy\")\n",
        "plt.title(\"Accuracy vs epoch\")\n",
        "plt.xlabel(\"epoch\")\n",
        "plt.ylabel(\"Top-k accuracy\");\n",
        "plt.legend()"
      ],
      "metadata": {
        "colab": {
          "base_uri": "https://localhost:8080/",
          "height": 312
        },
        "id": "u8WdF8gM9RW9",
        "outputId": "9396c651-8d17-41b6-bb25-5bab9875b4e3"
      },
      "execution_count": 41,
      "outputs": [
        {
          "output_type": "execute_result",
          "data": {
            "text/plain": [
              "<matplotlib.legend.Legend at 0x7f3d91916490>"
            ]
          },
          "metadata": {},
          "execution_count": 41
        },
        {
          "output_type": "display_data",
          "data": {
            "image/png": "[encoded data removed]",
            "text/plain": [
              "<Figure size 432x288 with 1 Axes>"
            ]
          },
          "metadata": {
            "needs_background": "light"
          }
        }
      ]
    },
    {
      "cell_type": "code",
      "source": [
        "top_k = 10\n",
        "# Create a model that takes in raw query features, and\n",
        "index = tfrs.layers.factorized_top_k.BruteForce(model.user_model, k=top_k)\n",
        "# recommends movies out of the entire movies dataset.\n",
        "index.index_from_dataset(\n",
        "    movies.batch(100).map(lambda title: (title, model.movie_model(title)))\n",
        ")\n",
        "\n",
        "UID = input (\"ユーザーのIDを入力してください:\") \n",
        " \n",
        "# Get some recommendations.\n",
        "rates, titles = index(np.array([UID]))\n",
        "titles = [i.decode('UTF-8') for i in titles.numpy().flatten()]\n",
        "rates = [r for r in rates.numpy().flatten()]\n",
        "\n",
        "result = pd.DataFrame.from_dict({\"title\":titles, \"rate\":rates})\n",
        "print(\"ユーザー:%sへお勧め映画は下記です：\" %  UID)\n",
        "result"
      ],
      "metadata": {
        "colab": {
          "base_uri": "https://localhost:8080/",
          "height": 398
        },
        "id": "9LaPoL3xpKmy",
        "outputId": "979a67dd-1d21-4c8c-a63b-5f8feffcc386"
      },
      "execution_count": 42,
      "outputs": [
        {
          "output_type": "stream",
          "name": "stdout",
          "text": [
            "ユーザーのIDを入力してください:100\n",
            "ユーザー:100へお勧め映画は下記です：\n"
          ]
        },
        {
          "output_type": "execute_result",
          "data": {
            "text/html": [
              "\n",
              "  <div id=\"df-df2fad26-575c-4ded-a11a-8bea5f8a7c55\">\n",
              "    <div class=\"colab-df-container\">\n",
              "      <div>\n",
              "<style scoped>\n",
              "    .dataframe tbody tr th:only-of-type {\n",
              "        vertical-align: middle;\n",
              "    }\n",
              "\n",
              "    .dataframe tbody tr th {\n",
              "        vertical-align: top;\n",
              "    }\n",
              "\n",
              "    .dataframe thead th {\n",
              "        text-align: right;\n",
              "    }\n",
              "</style>\n",
              "<table border=\"1\" class=\"dataframe\">\n",
              "  <thead>\n",
              "    <tr style=\"text-align: right;\">\n",
              "      <th></th>\n",
              "      <th>title</th>\n",
              "      <th>rate</th>\n",
              "    </tr>\n",
              "  </thead>\n",
              "  <tbody>\n",
              "    <tr>\n",
              "      <th>0</th>\n",
              "      <td>Blues Brothers 2000 (1998)</td>\n",
              "      <td>0.013412</td>\n",
              "    </tr>\n",
              "    <tr>\n",
              "      <th>1</th>\n",
              "      <td>Batman &amp; Robin (1997)</td>\n",
              "      <td>0.013257</td>\n",
              "    </tr>\n",
              "    <tr>\n",
              "      <th>2</th>\n",
              "      <td>Bogus (1996)</td>\n",
              "      <td>0.012600</td>\n",
              "    </tr>\n",
              "    <tr>\n",
              "      <th>3</th>\n",
              "      <td>Independence Day (ID4) (1996)</td>\n",
              "      <td>0.012172</td>\n",
              "    </tr>\n",
              "    <tr>\n",
              "      <th>4</th>\n",
              "      <td>Until the End of the World (Bis ans Ende der W...</td>\n",
              "      <td>0.012170</td>\n",
              "    </tr>\n",
              "    <tr>\n",
              "      <th>5</th>\n",
              "      <td>Nixon (1995)</td>\n",
              "      <td>0.012138</td>\n",
              "    </tr>\n",
              "    <tr>\n",
              "      <th>6</th>\n",
              "      <td>Man of the House (1995)</td>\n",
              "      <td>0.012069</td>\n",
              "    </tr>\n",
              "    <tr>\n",
              "      <th>7</th>\n",
              "      <td>Ready to Wear (Pret-A-Porter) (1994)</td>\n",
              "      <td>0.011993</td>\n",
              "    </tr>\n",
              "    <tr>\n",
              "      <th>8</th>\n",
              "      <td>Trainspotting (1996)</td>\n",
              "      <td>0.011867</td>\n",
              "    </tr>\n",
              "    <tr>\n",
              "      <th>9</th>\n",
              "      <td>Boot, Das (1981)</td>\n",
              "      <td>0.011827</td>\n",
              "    </tr>\n",
              "  </tbody>\n",
              "</table>\n",
              "</div>\n",
              "      <button class=\"colab-df-convert\" onclick=\"convertToInteractive('df-df2fad26-575c-4ded-a11a-8bea5f8a7c55')\"\n",
              "              title=\"Convert this dataframe to an interactive table.\"\n",
              "              style=\"display:none;\">\n",
              "        \n",
              "  <svg xmlns=\"http://www.w3.org/2000/svg\" height=\"24px\"viewBox=\"0 0 24 24\"\n",
              "       width=\"24px\">\n",
              "    <path d=\"M0 0h24v24H0V0z\" fill=\"none\"/>\n",
              "    <path d=\"M18.56 5.44l.94 2.06.94-2.06 2.06-.94-2.06-.94-.94-2.06-.94 2.06-2.06.94zm-11 1L8.5 8.5l.94-2.06 2.06-.94-2.06-.94L8.5 2.5l-.94 2.06-2.06.94zm10 10l.94 2.06.94-2.06 2.06-.94-2.06-.94-.94-2.06-.94 2.06-2.06.94z\"/><path d=\"M17.41 7.96l-1.37-1.37c-.4-.4-.92-.59-1.43-.59-.52 0-1.04.2-1.43.59L10.3 9.45l-7.72 7.72c-.78.78-.78 2.05 0 2.83L4 21.41c.39.39.9.59 1.41.59.51 0 1.02-.2 1.41-.59l7.78-7.78 2.81-2.81c.8-.78.8-2.07 0-2.86zM5.41 20L4 18.59l7.72-7.72 1.47 1.35L5.41 20z\"/>\n",
              "  </svg>\n",
              "      </button>\n",
              "      \n",
              "  <style>\n",
              "    .colab-df-container {\n",
              "      display:flex;\n",
              "      flex-wrap:wrap;\n",
              "      gap: 12px;\n",
              "    }\n",
              "\n",
              "    .colab-df-convert {\n",
              "      background-color: #E8F0FE;\n",
              "      border: none;\n",
              "      border-radius: 50%;\n",
              "      cursor: pointer;\n",
              "      display: none;\n",
              "      fill: #1967D2;\n",
              "      height: 32px;\n",
              "      padding: 0 0 0 0;\n",
              "      width: 32px;\n",
              "    }\n",
              "\n",
              "    .colab-df-convert:hover {\n",
              "      background-color: #E2EBFA;\n",
              "      box-shadow: 0px 1px 2px rgba(60, 64, 67, 0.3), 0px 1px 3px 1px rgba(60, 64, 67, 0.15);\n",
              "      fill: #174EA6;\n",
              "    }\n",
              "\n",
              "    [theme=dark] .colab-df-convert {\n",
              "      background-color: #3B4455;\n",
              "      fill: #D2E3FC;\n",
              "    }\n",
              "\n",
              "    [theme=dark] .colab-df-convert:hover {\n",
              "      background-color: #434B5C;\n",
              "      box-shadow: 0px 1px 3px 1px rgba(0, 0, 0, 0.15);\n",
              "      filter: drop-shadow(0px 1px 2px rgba(0, 0, 0, 0.3));\n",
              "      fill: #FFFFFF;\n",
              "    }\n",
              "  </style>\n",
              "\n",
              "      <script>\n",
              "        const buttonEl =\n",
              "          document.querySelector('#df-df2fad26-575c-4ded-a11a-8bea5f8a7c55 button.colab-df-convert');\n",
              "        buttonEl.style.display =\n",
              "          google.colab.kernel.accessAllowed ? 'block' : 'none';\n",
              "\n",
              "        async function convertToInteractive(key) {\n",
              "          const element = document.querySelector('#df-df2fad26-575c-4ded-a11a-8bea5f8a7c55');\n",
              "          const dataTable =\n",
              "            await google.colab.kernel.invokeFunction('convertToInteractive',\n",
              "                                                     [key], {});\n",
              "          if (!dataTable) return;\n",
              "\n",
              "          const docLinkHtml = 'Like what you see? Visit the ' +\n",
              "            '<a target=\"_blank\" href=https://colab.research.google.com/notebooks/data_table.ipynb>data table notebook</a>'\n",
              "            + ' to learn more about interactive tables.';\n",
              "          element.innerHTML = '';\n",
              "          dataTable['output_type'] = 'display_data';\n",
              "          await google.colab.output.renderOutput(dataTable, element);\n",
              "          const docLink = document.createElement('div');\n",
              "          docLink.innerHTML = docLinkHtml;\n",
              "          element.appendChild(docLink);\n",
              "        }\n",
              "      </script>\n",
              "    </div>\n",
              "  </div>\n",
              "  "
            ],
            "text/plain": [
              "                                               title      rate\n",
              "0                         Blues Brothers 2000 (1998)  0.013412\n",
              "1                              Batman & Robin (1997)  0.013257\n",
              "2                                       Bogus (1996)  0.012600\n",
              "3                      Independence Day (ID4) (1996)  0.012172\n",
              "4  Until the End of the World (Bis ans Ende der W...  0.012170\n",
              "5                                       Nixon (1995)  0.012138\n",
              "6                            Man of the House (1995)  0.012069\n",
              "7               Ready to Wear (Pret-A-Porter) (1994)  0.011993\n",
              "8                               Trainspotting (1996)  0.011867\n",
              "9                                   Boot, Das (1981)  0.011827"
            ]
          },
          "metadata": {},
          "execution_count": 42
        }
      ]
    }
  ]
}