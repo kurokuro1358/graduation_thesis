{
  "nbformat": 4,
  "nbformat_minor": 0,
  "metadata": {
    "orig_nbformat": 4,
    "colab": {
      "name": "mf.ipynb",
      "provenance": [],
      "collapsed_sections": []
    },
    "language_info": {
      "name": "python"
    },
    "kernelspec": {
      "name": "python3",
      "display_name": "Python 3"
    }
  },
  "cells": [
    {
      "cell_type": "markdown",
      "metadata": {
        "id": "p6Hsm4iDSy7Z"
      },
      "source": [
        "#### Install library\n",
        "###### ライブラリをインストールする\n",
        "https://github.com/Quang-Vinh/matrix-factorization"
      ]
    },
    {
      "cell_type": "code",
      "metadata": {
        "id": "JK3Bvfax0na4",
        "colab": {
          "base_uri": "https://localhost:8080/"
        },
        "outputId": "3bed6073-9c9e-4d86-8cb9-1e40f04aab57"
      },
      "source": [
        "!pip install -q matrix_factorization"
      ],
      "execution_count": 1,
      "outputs": [
        {
          "output_type": "stream",
          "name": "stdout",
          "text": [
            "  Building wheel for matrix-factorization (setup.py) ... \u001b[?25l\u001b[?25hdone\n"
          ]
        }
      ]
    },
    {
      "cell_type": "markdown",
      "metadata": {
        "id": "k80ME0ZvTob2"
      },
      "source": [
        "#### Import libraries\n",
        "###### ライブラリをインストールする"
      ]
    },
    {
      "cell_type": "code",
      "metadata": {
        "id": "3oGCExmZ0fSn"
      },
      "source": [
        "from matrix_factorization import BaselineModel, KernelMF, train_update_test_split\n",
        "\n",
        "import pandas as pd\n",
        "import numpy as np\n",
        "from sklearn.metrics import mean_squared_error\n",
        "from sklearn.metrics import r2_score\n",
        "from sklearn.metrics import mean_absolute_error\n",
        "from sklearn.metrics import accuracy_score\n",
        "from sklearn.metrics import top_k_accuracy_score\n",
        "from math import sqrt\n",
        "\n",
        "import matplotlib.pyplot as plt\n",
        "%matplotlib inline"
      ],
      "execution_count": 19,
      "outputs": []
    },
    {
      "cell_type": "markdown",
      "metadata": {
        "id": "kzcWUAUdT2DV"
      },
      "source": [
        "#### Load movie data from movielens　100k\n",
        "###### Movielens-100kのデータをロードする\n",
        "  - X: index, user_id, item_id\n",
        "  - y: index, rating"
      ]
    },
    {
      "cell_type": "code",
      "metadata": {
        "id": "jRDeD9S60fSo",
        "colab": {
          "base_uri": "https://localhost:8080/",
          "height": 424
        },
        "outputId": "2aa3d23b-e678-458c-8a8d-b3b7d994824b"
      },
      "source": [
        "# Movie data found here https://grouplens.org/datasets/movielens/\n",
        "cols = [\"user_id\", \"item_id\", \"rating\", \"timestamp\"]\n",
        "movie_data = pd.read_csv(\"https://files.grouplens.org/datasets/movielens/ml-100k/u.data\", names=cols, sep=\"\\t\", usecols=[0, 1, 2], engine=\"python\")\n",
        "\n",
        "X = movie_data[[\"user_id\", \"item_id\"]]\n",
        "y = movie_data[\"rating\"]\n",
        "\n",
        "movie_data[[\"item_id\",\"rating\"]]"
      ],
      "execution_count": 25,
      "outputs": [
        {
          "output_type": "execute_result",
          "data": {
            "text/html": [
              "\n",
              "  <div id=\"df-a8699a8e-56cd-4bbb-9ffe-cb4ba47e0741\">\n",
              "    <div class=\"colab-df-container\">\n",
              "      <div>\n",
              "<style scoped>\n",
              "    .dataframe tbody tr th:only-of-type {\n",
              "        vertical-align: middle;\n",
              "    }\n",
              "\n",
              "    .dataframe tbody tr th {\n",
              "        vertical-align: top;\n",
              "    }\n",
              "\n",
              "    .dataframe thead th {\n",
              "        text-align: right;\n",
              "    }\n",
              "</style>\n",
              "<table border=\"1\" class=\"dataframe\">\n",
              "  <thead>\n",
              "    <tr style=\"text-align: right;\">\n",
              "      <th></th>\n",
              "      <th>item_id</th>\n",
              "      <th>rating</th>\n",
              "    </tr>\n",
              "  </thead>\n",
              "  <tbody>\n",
              "    <tr>\n",
              "      <th>0</th>\n",
              "      <td>242</td>\n",
              "      <td>3</td>\n",
              "    </tr>\n",
              "    <tr>\n",
              "      <th>1</th>\n",
              "      <td>302</td>\n",
              "      <td>3</td>\n",
              "    </tr>\n",
              "    <tr>\n",
              "      <th>2</th>\n",
              "      <td>377</td>\n",
              "      <td>1</td>\n",
              "    </tr>\n",
              "    <tr>\n",
              "      <th>3</th>\n",
              "      <td>51</td>\n",
              "      <td>2</td>\n",
              "    </tr>\n",
              "    <tr>\n",
              "      <th>4</th>\n",
              "      <td>346</td>\n",
              "      <td>1</td>\n",
              "    </tr>\n",
              "    <tr>\n",
              "      <th>...</th>\n",
              "      <td>...</td>\n",
              "      <td>...</td>\n",
              "    </tr>\n",
              "    <tr>\n",
              "      <th>99995</th>\n",
              "      <td>476</td>\n",
              "      <td>3</td>\n",
              "    </tr>\n",
              "    <tr>\n",
              "      <th>99996</th>\n",
              "      <td>204</td>\n",
              "      <td>5</td>\n",
              "    </tr>\n",
              "    <tr>\n",
              "      <th>99997</th>\n",
              "      <td>1090</td>\n",
              "      <td>1</td>\n",
              "    </tr>\n",
              "    <tr>\n",
              "      <th>99998</th>\n",
              "      <td>225</td>\n",
              "      <td>2</td>\n",
              "    </tr>\n",
              "    <tr>\n",
              "      <th>99999</th>\n",
              "      <td>203</td>\n",
              "      <td>3</td>\n",
              "    </tr>\n",
              "  </tbody>\n",
              "</table>\n",
              "<p>100000 rows × 2 columns</p>\n",
              "</div>\n",
              "      <button class=\"colab-df-convert\" onclick=\"convertToInteractive('df-a8699a8e-56cd-4bbb-9ffe-cb4ba47e0741')\"\n",
              "              title=\"Convert this dataframe to an interactive table.\"\n",
              "              style=\"display:none;\">\n",
              "        \n",
              "  <svg xmlns=\"http://www.w3.org/2000/svg\" height=\"24px\"viewBox=\"0 0 24 24\"\n",
              "       width=\"24px\">\n",
              "    <path d=\"M0 0h24v24H0V0z\" fill=\"none\"/>\n",
              "    <path d=\"M18.56 5.44l.94 2.06.94-2.06 2.06-.94-2.06-.94-.94-2.06-.94 2.06-2.06.94zm-11 1L8.5 8.5l.94-2.06 2.06-.94-2.06-.94L8.5 2.5l-.94 2.06-2.06.94zm10 10l.94 2.06.94-2.06 2.06-.94-2.06-.94-.94-2.06-.94 2.06-2.06.94z\"/><path d=\"M17.41 7.96l-1.37-1.37c-.4-.4-.92-.59-1.43-.59-.52 0-1.04.2-1.43.59L10.3 9.45l-7.72 7.72c-.78.78-.78 2.05 0 2.83L4 21.41c.39.39.9.59 1.41.59.51 0 1.02-.2 1.41-.59l7.78-7.78 2.81-2.81c.8-.78.8-2.07 0-2.86zM5.41 20L4 18.59l7.72-7.72 1.47 1.35L5.41 20z\"/>\n",
              "  </svg>\n",
              "      </button>\n",
              "      \n",
              "  <style>\n",
              "    .colab-df-container {\n",
              "      display:flex;\n",
              "      flex-wrap:wrap;\n",
              "      gap: 12px;\n",
              "    }\n",
              "\n",
              "    .colab-df-convert {\n",
              "      background-color: #E8F0FE;\n",
              "      border: none;\n",
              "      border-radius: 50%;\n",
              "      cursor: pointer;\n",
              "      display: none;\n",
              "      fill: #1967D2;\n",
              "      height: 32px;\n",
              "      padding: 0 0 0 0;\n",
              "      width: 32px;\n",
              "    }\n",
              "\n",
              "    .colab-df-convert:hover {\n",
              "      background-color: #E2EBFA;\n",
              "      box-shadow: 0px 1px 2px rgba(60, 64, 67, 0.3), 0px 1px 3px 1px rgba(60, 64, 67, 0.15);\n",
              "      fill: #174EA6;\n",
              "    }\n",
              "\n",
              "    [theme=dark] .colab-df-convert {\n",
              "      background-color: #3B4455;\n",
              "      fill: #D2E3FC;\n",
              "    }\n",
              "\n",
              "    [theme=dark] .colab-df-convert:hover {\n",
              "      background-color: #434B5C;\n",
              "      box-shadow: 0px 1px 3px 1px rgba(0, 0, 0, 0.15);\n",
              "      filter: drop-shadow(0px 1px 2px rgba(0, 0, 0, 0.3));\n",
              "      fill: #FFFFFF;\n",
              "    }\n",
              "  </style>\n",
              "\n",
              "      <script>\n",
              "        const buttonEl =\n",
              "          document.querySelector('#df-a8699a8e-56cd-4bbb-9ffe-cb4ba47e0741 button.colab-df-convert');\n",
              "        buttonEl.style.display =\n",
              "          google.colab.kernel.accessAllowed ? 'block' : 'none';\n",
              "\n",
              "        async function convertToInteractive(key) {\n",
              "          const element = document.querySelector('#df-a8699a8e-56cd-4bbb-9ffe-cb4ba47e0741');\n",
              "          const dataTable =\n",
              "            await google.colab.kernel.invokeFunction('convertToInteractive',\n",
              "                                                     [key], {});\n",
              "          if (!dataTable) return;\n",
              "\n",
              "          const docLinkHtml = 'Like what you see? Visit the ' +\n",
              "            '<a target=\"_blank\" href=https://colab.research.google.com/notebooks/data_table.ipynb>data table notebook</a>'\n",
              "            + ' to learn more about interactive tables.';\n",
              "          element.innerHTML = '';\n",
              "          dataTable['output_type'] = 'display_data';\n",
              "          await google.colab.output.renderOutput(dataTable, element);\n",
              "          const docLink = document.createElement('div');\n",
              "          docLink.innerHTML = docLinkHtml;\n",
              "          element.appendChild(docLink);\n",
              "        }\n",
              "      </script>\n",
              "    </div>\n",
              "  </div>\n",
              "  "
            ],
            "text/plain": [
              "       item_id  rating\n",
              "0          242       3\n",
              "1          302       3\n",
              "2          377       1\n",
              "3           51       2\n",
              "4          346       1\n",
              "...        ...     ...\n",
              "99995      476       3\n",
              "99996      204       5\n",
              "99997     1090       1\n",
              "99998      225       2\n",
              "99999      203       3\n",
              "\n",
              "[100000 rows x 2 columns]"
            ]
          },
          "metadata": {},
          "execution_count": 25
        }
      ]
    },
    {
      "cell_type": "code",
      "source": [
        "title_data = pd.read_csv(\"https://files.grouplens.org/datasets/movielens/ml-100k/u.item\", names=[\"all_data\"], sep=\"\\t\", engine=\"python\", encoding='latin-1')\n",
        "title_data = title_data['all_data'].str.split('|', expand=True)\n",
        "title_data = title_data.loc[:, [0, 1]]\n",
        "title_data = title_data.rename(columns={0: 'item_id', 1: 'title'})"
      ],
      "metadata": {
        "id": "nAiOxNDn8HAt"
      },
      "execution_count": 108,
      "outputs": []
    },
    {
      "cell_type": "markdown",
      "metadata": {
        "id": "hSY6qmwxZiKI"
      },
      "source": [
        "#### Prepare data form online learning\n",
        "###### オンライン学習のためにデータを準備する\n",
        "  fac_new_users : Fraction of users for testing（テストデータの割合）"
      ]
    },
    {
      "cell_type": "code",
      "metadata": {
        "id": "CTIU3UVY0fSo"
      },
      "source": [
        "# Prepare data for online learning\n",
        "(\n",
        "    X_train_initial,\n",
        "    y_train_initial,\n",
        "    X_train_update,\n",
        "    y_train_update,\n",
        "    X_test_update,\n",
        "    y_test_update,\n",
        ") = train_update_test_split(movie_data, frac_new_users=0.2)\n",
        "# print(movie_data.head(10))"
      ],
      "execution_count": 5,
      "outputs": []
    },
    {
      "cell_type": "markdown",
      "metadata": {
        "id": "pbc4ZWkOgzpe"
      },
      "source": [
        "#### Training\n",
        "###### モデルをトレーニングする\n",
        "  1. Generate instance of KernelMF class（Karnelクラスのインスタンスを生成）\n",
        "  2. Fitting model（モデルをトレーニングする）　　\n",
        "\n",
        "###### Kernelクラスの引数について\n",
        "        n_epochs: エポック数、1つの訓練データを何回繰り返して学習させるかの数\n",
        "        n_factors: 行列PおよびQの潜在因子数\n",
        "        verbose: フィッティング時の冗長性、フィッティングモデルを印刷する場合は1、しない場合は0\n",
        "        lr: 勾配最適化ステップの学習率アルファ\n",
        "        reg: 正則化パラメータラムダ"
      ]
    },
    {
      "cell_type": "code",
      "source": [
        "epochs = 10"
      ],
      "metadata": {
        "id": "LX6LAL2B9xqh"
      },
      "execution_count": 6,
      "outputs": []
    },
    {
      "cell_type": "code",
      "metadata": {
        "colab": {
          "base_uri": "https://localhost:8080/"
        },
        "id": "GKKcCEQg0fSp",
        "outputId": "468502fb-b088-449e-ac67-d00d633ba137"
      },
      "source": [
        "### Initial training\n",
        "    ## KernelMFクラスのインスタンスを生成 \n",
        "    # 詳しくは、https://github.com/Quang-Vinh/matrix-factorization/blob/master/matrix_factorization/kernel_matrix_factorization.py\n",
        "matrix_fact = KernelMF(n_epochs=epochs, n_factors=100, verbose=1, lr=0.001, reg=0.005)\n",
        "    ##  確率的勾配法を用いて行列分解をし、PおよびQ行列に分解\n",
        "        # 引数について\n",
        "        # X_train_initail: 列User_id、行Item_id\n",
        "        # Y_train_initial: 評価\n",
        "matrix_fact.fit(X_train_initial, y_train_initial)"
      ],
      "execution_count": 7,
      "outputs": [
        {
          "output_type": "stream",
          "name": "stdout",
          "text": [
            "Epoch  1 / 10  -  train_rmse: 1.0693487692160029\n",
            "Epoch  2 / 10  -  train_rmse: 1.0365999805213837\n",
            "Epoch  3 / 10  -  train_rmse: 1.0138811472232785\n",
            "Epoch  4 / 10  -  train_rmse: 0.9971929481833647\n",
            "Epoch  5 / 10  -  train_rmse: 0.9842782253879215\n",
            "Epoch  6 / 10  -  train_rmse: 0.9738739685094109\n",
            "Epoch  7 / 10  -  train_rmse: 0.9652012037623473\n",
            "Epoch  8 / 10  -  train_rmse: 0.9577635296641939\n",
            "Epoch  9 / 10  -  train_rmse: 0.9512497027125905\n",
            "Epoch  10 / 10  -  train_rmse: 0.9454406478720215\n"
          ]
        },
        {
          "output_type": "execute_result",
          "data": {
            "text/plain": [
              "KernelMF(gamma=0.01, lr=0.001, n_epochs=10, reg=0.005)"
            ]
          },
          "metadata": {},
          "execution_count": 7
        }
      ]
    },
    {
      "cell_type": "markdown",
      "metadata": {
        "id": "YFBCpGrakvHh"
      },
      "source": [
        "##### トレーニングデータに無いユーザデータを追加して、さらに学習する"
      ]
    },
    {
      "cell_type": "code",
      "metadata": {
        "colab": {
          "base_uri": "https://localhost:8080/"
        },
        "id": "QXVaniQj0fSp",
        "outputId": "85211855-21f2-476a-c3f0-7d55b8465a9d"
      },
      "source": [
        "### Update model with new users\n",
        "    ## Pユーザー行列を、MFによって更新されたユーザーアイテム評価情報で更新する\n",
        "        # 引数について\n",
        "        # X_train_update: 列User_id、行Item_id\n",
        "        # Y_train_update: 評価\n",
        "        # lr: 勾配最適化ステップの学習率アルファ\n",
        "        # n_epochs: 確率的勾配法を実行するエポック数\n",
        "matrix_fact.update_users(X_train_update, y_train_update, lr=0.001, n_epochs=epochs, verbose=1)"
      ],
      "execution_count": 8,
      "outputs": [
        {
          "output_type": "stream",
          "name": "stdout",
          "text": [
            "Epoch  1 / 10  -  train_rmse: 1.0665681512827545\n",
            "Epoch  2 / 10  -  train_rmse: 1.0456309285670344\n",
            "Epoch  3 / 10  -  train_rmse: 1.031805396188559\n",
            "Epoch  4 / 10  -  train_rmse: 1.0220445811227388\n",
            "Epoch  5 / 10  -  train_rmse: 1.014682026276863\n",
            "Epoch  6 / 10  -  train_rmse: 1.0087923626649626\n",
            "Epoch  7 / 10  -  train_rmse: 1.0039252628687503\n",
            "Epoch  8 / 10  -  train_rmse: 0.9996855560589409\n",
            "Epoch  9 / 10  -  train_rmse: 0.9959780833882528\n",
            "Epoch  10 / 10  -  train_rmse: 0.9926527321907015\n"
          ]
        }
      ]
    },
    {
      "cell_type": "markdown",
      "source": [
        "#### Accuracyを計算する\n",
        "top-1、top-5、top-10、top-50、top-100"
      ],
      "metadata": {
        "id": "6pjymTH2Hr5X"
      }
    },
    {
      "cell_type": "code",
      "source": [
        "# 元のデータをリスト化\n",
        "original = y_test_update.values.tolist()\n",
        "# 元のデータと予測データの一致数を数える変数\n",
        "c = 0\n",
        "# 評価を予測\n",
        "pred = matrix_fact.predict(X_test_update)\n",
        "\n",
        "# pred要素をキーとして、zipする\n",
        "zip_list = zip(pred, original)\n",
        "# predをキーとて、降順にソート\n",
        "sorted_zip_list = sorted(zip_list)\n",
        "\n",
        "# predとoriginalを初期化\n",
        "pred_sorted = []\n",
        "pred_sorted_to_int = []\n",
        "original_sorted = []\n",
        "# ソートしたsorted_zip_listからpred、originalリストに変換\n",
        "for pred_tmp, original_tmp in sorted_zip_list:\n",
        "  pred_sorted.append(pred_tmp)\n",
        "  # predの要素をint型に変換して、元のデータと比較できるようにする\n",
        "  pred_sorted_to_int.append(int(pred_tmp))\n",
        "  original_sorted.append(original_tmp) \n",
        "\n",
        "topk = [1, 5, 10, 50, 100]\n",
        "\n",
        "# top-1、５、１０…とaccuracyを計算していく\n",
        "# accuracyの値を保持するリストを定義\n",
        "y = []\n",
        "for k in topk:\n",
        "  # 元のデータと予測データの一致数をカウントする変数\n",
        "  c = 0\n",
        "  # top-k個分ループする\n",
        "  for i in range(0, k):\n",
        "    # 元のデータと予測データを比較して、一致していたらcをプラス1する\n",
        "    if original_sorted[i] == pred_sorted_to_int[i]:\n",
        "      c+=1\n",
        "  # 各top-kでaccuracyを算出\n",
        "  accuracy = c/len(pred_sorted)\n",
        "  y.append(accuracy)\n",
        "  print(f\"top-{k} accuracy : {accuracy}\")"
      ],
      "metadata": {
        "colab": {
          "base_uri": "https://localhost:8080/"
        },
        "id": "tiAg3zW3AUDg",
        "outputId": "c6601ffd-2ed9-4abe-9a3e-65460f527c85"
      },
      "execution_count": 9,
      "outputs": [
        {
          "output_type": "stream",
          "name": "stdout",
          "text": [
            "top-1 accuracy : 0.0\n",
            "top-5 accuracy : 0.00020964360587002095\n",
            "top-10 accuracy : 0.0004192872117400419\n",
            "top-50 accuracy : 0.003459119496855346\n",
            "top-100 accuracy : 0.007337526205450734\n"
          ]
        }
      ]
    },
    {
      "cell_type": "markdown",
      "source": [
        "#### Accuracyを図にプロット"
      ],
      "metadata": {
        "id": "mW6sRovbIAjL"
      }
    },
    {
      "cell_type": "code",
      "source": [
        "# 棒グラフにおけるx軸のラベルを定義\n",
        "label = list(map(lambda tmp: \"top\" + str(tmp), topk))\n",
        "# 棒グラフのx軸の値（図を整えるために定義）\n",
        "x_range = [1, 2, 3, 4, 5]\n",
        "\n",
        "# 図示する\n",
        "plt.bar(x_range, height=y, width=0.5, tick_label=label)  # 棒のラベルづけと幅の変更\n",
        "plt.title(\"Accuracy in top-k\")\n",
        "plt.xlabel(\"top-k\")\n",
        "plt.ylabel(\"accuracy\");"
      ],
      "metadata": {
        "id": "xDP8R6T9TaxO",
        "colab": {
          "base_uri": "https://localhost:8080/",
          "height": 295
        },
        "outputId": "d82159f0-658a-4756-aa03-635a81df8451"
      },
      "execution_count": 10,
      "outputs": [
        {
          "output_type": "display_data",
          "data": {
            "image/png": "[encoded data removed]",
            "text/plain": [
              "<Figure size 432x288 with 1 Axes>"
            ]
          },
          "metadata": {
            "needs_background": "light"
          }
        }
      ]
    },
    {
      "cell_type": "code",
      "source": [
        "# top-1、５、１０…とrmseを計算していく\n",
        "# accuracyの値を保持するリストを定義\n",
        "y = []\n",
        "\n",
        "for k in topk:\n",
        "  # top-k個分ループする\n",
        "  # 各top-kでaccuracyを算出\n",
        "  rmse = np.sqrt(mean_squared_error(original_sorted[0:k], pred_sorted[0:k]))\n",
        "  y.append(rmse)\n",
        "  print(rmse)\n",
        "  # print(f\"top-{k} accuracy : {accuracy}\")"
      ],
      "metadata": {
        "colab": {
          "base_uri": "https://localhost:8080/"
        },
        "id": "rLCFqVhlvvMr",
        "outputId": "2151042e-933a-40de-d212-24bbe85c02d5"
      },
      "execution_count": 11,
      "outputs": [
        {
          "output_type": "stream",
          "name": "stdout",
          "text": [
            "3.491251699931521\n",
            "1.8394723245535687\n",
            "1.8608163600053462\n",
            "1.092840714473005\n",
            "1.1175596845997287\n"
          ]
        }
      ]
    },
    {
      "cell_type": "code",
      "source": [
        "# 棒グラフにおけるx軸のラベルを定義\n",
        "label = list(map(lambda tmp: \"top\" + str(tmp), topk))\n",
        "# 棒グラフのx軸の値（図を整えるために定義）\n",
        "x_range = [1, 2, 3, 4, 5]\n",
        "\n",
        "# 図示する\n",
        "plt.bar(x_range, height=y, width=0.5, tick_label=label)  # 棒のラベルづけと幅の変更\n",
        "plt.title(\"RMSE in top-k\")\n",
        "plt.xlabel(\"top-k\")\n",
        "plt.ylabel(\"rmse\");"
      ],
      "metadata": {
        "colab": {
          "base_uri": "https://localhost:8080/",
          "height": 295
        },
        "id": "s68wtq_p3uAH",
        "outputId": "0f6b7c46-cc8b-443a-b21b-ecc693428a85"
      },
      "execution_count": 12,
      "outputs": [
        {
          "output_type": "display_data",
          "data": {
            "image/png": "[encoded data removed]",
            "text/plain": [
              "<Figure size 432x288 with 1 Axes>"
            ]
          },
          "metadata": {
            "needs_background": "light"
          }
        }
      ]
    },
    {
      "cell_type": "markdown",
      "metadata": {
        "id": "YbANqqmQlr7A"
      },
      "source": [
        "#### Predict rating\n",
        "###### テストデータを用いて、評価を予測する"
      ]
    },
    {
      "cell_type": "code",
      "metadata": {
        "id": "GwaPhe2iljEB",
        "colab": {
          "base_uri": "https://localhost:8080/"
        },
        "outputId": "2d329f27-3b8d-49c6-b4d9-751c42598d3d"
      },
      "source": [
        "## ユーザーとアイテムの評価を予測する\n",
        "    # 引数について\n",
        "    # X_test_update: 列User_id、行Item_id\n",
        "    # 戻り値について\n",
        "    # 全てのユーザーの評価予測を含むリスト、入力Xと同じ順序のアイテム\n",
        "    # pred: 全てのユーザーの評価予測を含むリスト\n",
        "pred = matrix_fact.predict(X_test_update)\n",
        "\n",
        "    ## sklearnを用いて、MSEとRMSEを計算する\n",
        "r2 = r2_score(y_test_update, pred)\n",
        "mae = mean_absolute_error(y_test_update, pred)\n",
        "rmse = np.sqrt(mean_squared_error(y_test_update, pred))\n",
        "print(f\"\\nTest R^2: {r2:.4f}\")\n",
        "print(f\"Test MAE: {mae:.4f}\")\n",
        "print(f\"Test RMSE: {rmse:.4f}\\n\")"
      ],
      "execution_count": 13,
      "outputs": [
        {
          "output_type": "stream",
          "name": "stdout",
          "text": [
            "\n",
            "Test R^2: 0.2623\n",
            "Test MAE: 0.8045\n",
            "Test RMSE: 1.0030\n",
            "\n"
          ]
        }
      ]
    },
    {
      "cell_type": "markdown",
      "metadata": {
        "id": "ZJeSoxm6mf9L"
      },
      "source": [
        "#### Recommend to input user_id\n",
        "###### 入力されたユーザーIDに対して、レコメンドをする"
      ]
    },
    {
      "cell_type": "code",
      "metadata": {
        "id": "lgTy-kTU0fSp",
        "colab": {
          "base_uri": "https://localhost:8080/"
        },
        "outputId": "10e85339-5b81-41c3-bfcf-13dd93bc4e69"
      },
      "source": [
        "### Get recommendations\n",
        "user = input('Enter the user_id: ')\n",
        "items_known = X_train_initial.query(\"user_id == @user\")[\"item_id\"]\n",
        "recommend_data = matrix_fact.recommend(user=user, items_known=items_known)"
      ],
      "execution_count": 105,
      "outputs": [
        {
          "name": "stdout",
          "output_type": "stream",
          "text": [
            "Enter the user_id: 200\n"
          ]
        }
      ]
    },
    {
      "cell_type": "code",
      "source": [
        "recommend_data['item_id'] = recommend_data['item_id'].astype(str)"
      ],
      "metadata": {
        "id": "3rFuTwNk5GTh"
      },
      "execution_count": 106,
      "outputs": []
    },
    {
      "cell_type": "code",
      "source": [
        "recommend_data = pd.merge(recommend_data, title_data, on='item_id')\n",
        "recommend_data = recommend_data[['title', 'rating_pred']]\n",
        "recommend_data"
      ],
      "metadata": {
        "colab": {
          "base_uri": "https://localhost:8080/",
          "height": 363
        },
        "id": "7QlnPyfu4FwN",
        "outputId": "b11ed339-33bd-4f86-b74d-9ce28d7a42b2"
      },
      "execution_count": 107,
      "outputs": [
        {
          "output_type": "execute_result",
          "data": {
            "text/html": [
              "\n",
              "  <div id=\"df-3729a43f-9ed6-4d22-8137-f8d5dd2d903f\">\n",
              "    <div class=\"colab-df-container\">\n",
              "      <div>\n",
              "<style scoped>\n",
              "    .dataframe tbody tr th:only-of-type {\n",
              "        vertical-align: middle;\n",
              "    }\n",
              "\n",
              "    .dataframe tbody tr th {\n",
              "        vertical-align: top;\n",
              "    }\n",
              "\n",
              "    .dataframe thead th {\n",
              "        text-align: right;\n",
              "    }\n",
              "</style>\n",
              "<table border=\"1\" class=\"dataframe\">\n",
              "  <thead>\n",
              "    <tr style=\"text-align: right;\">\n",
              "      <th></th>\n",
              "      <th>title</th>\n",
              "      <th>rating_pred</th>\n",
              "    </tr>\n",
              "  </thead>\n",
              "  <tbody>\n",
              "    <tr>\n",
              "      <th>0</th>\n",
              "      <td>Shawshank Redemption, The (1994)</td>\n",
              "      <td>4.367365</td>\n",
              "    </tr>\n",
              "    <tr>\n",
              "      <th>1</th>\n",
              "      <td>Usual Suspects, The (1995)</td>\n",
              "      <td>4.323328</td>\n",
              "    </tr>\n",
              "    <tr>\n",
              "      <th>2</th>\n",
              "      <td>Godfather, The (1972)</td>\n",
              "      <td>4.306841</td>\n",
              "    </tr>\n",
              "    <tr>\n",
              "      <th>3</th>\n",
              "      <td>Rear Window (1954)</td>\n",
              "      <td>4.208426</td>\n",
              "    </tr>\n",
              "    <tr>\n",
              "      <th>4</th>\n",
              "      <td>L.A. Confidential (1997)</td>\n",
              "      <td>4.158481</td>\n",
              "    </tr>\n",
              "    <tr>\n",
              "      <th>5</th>\n",
              "      <td>Good Will Hunting (1997)</td>\n",
              "      <td>4.157258</td>\n",
              "    </tr>\n",
              "    <tr>\n",
              "      <th>6</th>\n",
              "      <td>To Kill a Mockingbird (1962)</td>\n",
              "      <td>4.148391</td>\n",
              "    </tr>\n",
              "    <tr>\n",
              "      <th>7</th>\n",
              "      <td>Fargo (1996)</td>\n",
              "      <td>4.134336</td>\n",
              "    </tr>\n",
              "    <tr>\n",
              "      <th>8</th>\n",
              "      <td>Close Shave, A (1995)</td>\n",
              "      <td>4.131095</td>\n",
              "    </tr>\n",
              "    <tr>\n",
              "      <th>9</th>\n",
              "      <td>Citizen Kane (1941)</td>\n",
              "      <td>4.112576</td>\n",
              "    </tr>\n",
              "  </tbody>\n",
              "</table>\n",
              "</div>\n",
              "      <button class=\"colab-df-convert\" onclick=\"convertToInteractive('df-3729a43f-9ed6-4d22-8137-f8d5dd2d903f')\"\n",
              "              title=\"Convert this dataframe to an interactive table.\"\n",
              "              style=\"display:none;\">\n",
              "        \n",
              "  <svg xmlns=\"http://www.w3.org/2000/svg\" height=\"24px\"viewBox=\"0 0 24 24\"\n",
              "       width=\"24px\">\n",
              "    <path d=\"M0 0h24v24H0V0z\" fill=\"none\"/>\n",
              "    <path d=\"M18.56 5.44l.94 2.06.94-2.06 2.06-.94-2.06-.94-.94-2.06-.94 2.06-2.06.94zm-11 1L8.5 8.5l.94-2.06 2.06-.94-2.06-.94L8.5 2.5l-.94 2.06-2.06.94zm10 10l.94 2.06.94-2.06 2.06-.94-2.06-.94-.94-2.06-.94 2.06-2.06.94z\"/><path d=\"M17.41 7.96l-1.37-1.37c-.4-.4-.92-.59-1.43-.59-.52 0-1.04.2-1.43.59L10.3 9.45l-7.72 7.72c-.78.78-.78 2.05 0 2.83L4 21.41c.39.39.9.59 1.41.59.51 0 1.02-.2 1.41-.59l7.78-7.78 2.81-2.81c.8-.78.8-2.07 0-2.86zM5.41 20L4 18.59l7.72-7.72 1.47 1.35L5.41 20z\"/>\n",
              "  </svg>\n",
              "      </button>\n",
              "      \n",
              "  <style>\n",
              "    .colab-df-container {\n",
              "      display:flex;\n",
              "      flex-wrap:wrap;\n",
              "      gap: 12px;\n",
              "    }\n",
              "\n",
              "    .colab-df-convert {\n",
              "      background-color: #E8F0FE;\n",
              "      border: none;\n",
              "      border-radius: 50%;\n",
              "      cursor: pointer;\n",
              "      display: none;\n",
              "      fill: #1967D2;\n",
              "      height: 32px;\n",
              "      padding: 0 0 0 0;\n",
              "      width: 32px;\n",
              "    }\n",
              "\n",
              "    .colab-df-convert:hover {\n",
              "      background-color: #E2EBFA;\n",
              "      box-shadow: 0px 1px 2px rgba(60, 64, 67, 0.3), 0px 1px 3px 1px rgba(60, 64, 67, 0.15);\n",
              "      fill: #174EA6;\n",
              "    }\n",
              "\n",
              "    [theme=dark] .colab-df-convert {\n",
              "      background-color: #3B4455;\n",
              "      fill: #D2E3FC;\n",
              "    }\n",
              "\n",
              "    [theme=dark] .colab-df-convert:hover {\n",
              "      background-color: #434B5C;\n",
              "      box-shadow: 0px 1px 3px 1px rgba(0, 0, 0, 0.15);\n",
              "      filter: drop-shadow(0px 1px 2px rgba(0, 0, 0, 0.3));\n",
              "      fill: #FFFFFF;\n",
              "    }\n",
              "  </style>\n",
              "\n",
              "      <script>\n",
              "        const buttonEl =\n",
              "          document.querySelector('#df-3729a43f-9ed6-4d22-8137-f8d5dd2d903f button.colab-df-convert');\n",
              "        buttonEl.style.display =\n",
              "          google.colab.kernel.accessAllowed ? 'block' : 'none';\n",
              "\n",
              "        async function convertToInteractive(key) {\n",
              "          const element = document.querySelector('#df-3729a43f-9ed6-4d22-8137-f8d5dd2d903f');\n",
              "          const dataTable =\n",
              "            await google.colab.kernel.invokeFunction('convertToInteractive',\n",
              "                                                     [key], {});\n",
              "          if (!dataTable) return;\n",
              "\n",
              "          const docLinkHtml = 'Like what you see? Visit the ' +\n",
              "            '<a target=\"_blank\" href=https://colab.research.google.com/notebooks/data_table.ipynb>data table notebook</a>'\n",
              "            + ' to learn more about interactive tables.';\n",
              "          element.innerHTML = '';\n",
              "          dataTable['output_type'] = 'display_data';\n",
              "          await google.colab.output.renderOutput(dataTable, element);\n",
              "          const docLink = document.createElement('div');\n",
              "          docLink.innerHTML = docLinkHtml;\n",
              "          element.appendChild(docLink);\n",
              "        }\n",
              "      </script>\n",
              "    </div>\n",
              "  </div>\n",
              "  "
            ],
            "text/plain": [
              "                              title  rating_pred\n",
              "0  Shawshank Redemption, The (1994)     4.367365\n",
              "1        Usual Suspects, The (1995)     4.323328\n",
              "2             Godfather, The (1972)     4.306841\n",
              "3                Rear Window (1954)     4.208426\n",
              "4          L.A. Confidential (1997)     4.158481\n",
              "5          Good Will Hunting (1997)     4.157258\n",
              "6      To Kill a Mockingbird (1962)     4.148391\n",
              "7                      Fargo (1996)     4.134336\n",
              "8             Close Shave, A (1995)     4.131095\n",
              "9               Citizen Kane (1941)     4.112576"
            ]
          },
          "metadata": {},
          "execution_count": 107
        }
      ]
    }
  ]
}